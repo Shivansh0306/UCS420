{
 "cells": [
  {
   "cell_type": "markdown",
   "metadata": {},
   "source": [
    "# Artificial Intelligence (UCS 521)\n",
    "## Lab Assignment 1"
   ]
  },
  {
   "cell_type": "markdown",
   "metadata": {},
   "source": [
    "Ques 1)\\\n",
    "A class with 10 students wants to produce some information from the results of the four standard tests in Maths, Science, English and IT. Each test is out of 100 marks. The information output should be the highest, lowest and average mark for each test and the highest, lowest and average mark overall. Write a program in Python to complete this task"
   ]
  },
  {
   "cell_type": "code",
   "execution_count": 7,
   "metadata": {},
   "outputs": [
    {
     "name": "stdout",
     "output_type": "stream",
     "text": [
      "Maximum marks for each subject: {'Maths': 92, 'Science': 92, 'English': 92, 'IT': 95}\n",
      "Highest marks: 95\n",
      "Lowest Marks: 70\n",
      "Average Marks: 84.8\n"
     ]
    }
   ],
   "source": [
    "marks = {\n",
    "        \"Student 1\": {\"Maths\": 85, \"Science\": 90, \"English\": 70, \"IT\": 95}, \n",
    "        \"Student 2\": {\"Maths\": 78, \"Science\": 82, \"English\": 88, \"IT\": 91},\n",
    "        \"Student 3\": {\"Maths\": 92, \"Science\": 85, \"English\": 80, \"IT\": 87},\n",
    "        \"Student 4\": {\"Maths\": 75, \"Science\": 89, \"English\": 92, \"IT\": 78},\n",
    "        \"Student 5\": {\"Maths\": 88, \"Science\": 76, \"English\": 85, \"IT\": 90},\n",
    "        \"Student 6\": {\"Maths\": 80, \"Science\": 88, \"English\": 78, \"IT\": 85},\n",
    "        \"Student 7\": {\"Maths\": 90, \"Science\": 92, \"English\": 84, \"IT\": 88},\n",
    "        \"Student 8\": {\"Maths\": 85, \"Science\": 80, \"English\": 90, \"IT\": 82},\n",
    "        \"Student 9\": {\"Maths\": 78, \"Science\": 85, \"English\": 88, \"IT\": 80},\n",
    "        \"Student 10\": {\"Maths\": 82, \"Science\": 87, \"English\": 85, \"IT\": 89}\n",
    "}\n",
    "\n",
    "max_marks = {subject: max(student[subject] for student in marks.values()) for subject in [\"Maths\", \"Science\", \"English\", \"IT\"]}\n",
    "print(\"Maximum marks for each subject:\", max_marks)\n",
    "\n",
    "all_marks = []\n",
    "for student in marks.values():\n",
    "    for subject in [\"Maths\", \"Science\", \"English\", \"IT\"]:\n",
    "        all_marks.append(student[subject])\n",
    "\n",
    "highest_marks = max(all_marks)\n",
    "lowest_marks = min(all_marks)\n",
    "avg_marks = sum(all_marks) / len(all_marks)\n",
    "print(f\"Highest marks: {highest_marks}\\nLowest Marks: {lowest_marks}\\nAverage Marks: {avg_marks}\")"
   ]
  },
  {
   "cell_type": "markdown",
   "metadata": {},
   "source": [
    "Ques 2)\\\n",
    "Write a Python Program to input basic salary of an employee and calculate its Gross salary according to following: \\\n",
    "Basic Salary <= 10000 : HRA = 20%, DA = 80% \\\n",
    "Basic Salary <= 20000 : HRA = 25%, DA = 90% \\\n",
    "Basic Salary > 20000 : HRA = 30%, DA = 95%"
   ]
  },
  {
   "cell_type": "code",
   "execution_count": 8,
   "metadata": {},
   "outputs": [
    {
     "ename": "ValueError",
     "evalue": "invalid literal for int() with base 10: ''",
     "output_type": "error",
     "traceback": [
      "\u001b[1;31m---------------------------------------------------------------------------\u001b[0m",
      "\u001b[1;31mValueError\u001b[0m                                Traceback (most recent call last)",
      "Cell \u001b[1;32mIn[8], line 1\u001b[0m\n\u001b[1;32m----> 1\u001b[0m salary \u001b[38;5;241m=\u001b[39m \u001b[38;5;28;43mint\u001b[39;49m\u001b[43m(\u001b[49m\u001b[38;5;28;43minput\u001b[39;49m\u001b[43m(\u001b[49m\u001b[38;5;124;43m\"\u001b[39;49m\u001b[38;5;124;43mPlease enter your base salary: \u001b[39;49m\u001b[38;5;124;43m\"\u001b[39;49m\u001b[43m)\u001b[49m\u001b[43m)\u001b[49m\n\u001b[0;32m      2\u001b[0m \u001b[38;5;28mprint\u001b[39m(\u001b[38;5;124mf\u001b[39m\u001b[38;5;124m\"\u001b[39m\u001b[38;5;124mBase Salary: \u001b[39m\u001b[38;5;132;01m{\u001b[39;00msalary\u001b[38;5;132;01m}\u001b[39;00m\u001b[38;5;124m\"\u001b[39m)\n\u001b[0;32m      4\u001b[0m \u001b[38;5;28;01mif\u001b[39;00m salary \u001b[38;5;241m<\u001b[39m\u001b[38;5;241m=\u001b[39m \u001b[38;5;241m10000\u001b[39m:\n",
      "\u001b[1;31mValueError\u001b[0m: invalid literal for int() with base 10: ''"
     ]
    }
   ],
   "source": [
    "salary = int(input(\"Please enter your base salary: \"))\n",
    "print(f\"Base Salary: {salary}\")\n",
    "\n",
    "if salary <= 10000:\n",
    "    gross_salary = salary + 0.2 * salary + 0.8 * salary\n",
    "elif salary <= 20000:\n",
    "    gross_salary = salary + 0.25 * salary + 0.9 * salary\n",
    "elif salary > 20000:\n",
    "    gross_salary = salary + 0.30 * salary + 0.95 * salary\n",
    "    \n",
    "print(f\"Your gross salary is Rs. {gross_salary}\")\n",
    "    "
   ]
  },
  {
   "cell_type": "markdown",
   "metadata": {},
   "source": [
    "Ques 3)\\\n",
    "Write a Python program to check the validity of password input by users.\n",
    "Validation:\\\n",
    "At least 1 letter between [a-z] and 1 letter between [A-Z].\\\n",
    "At least 1 number between [0-9].\\\n",
    "At least 1 character from [$#@].\\\n",
    "Minimum length 6 characters.\\\n",
    "Maximum length 16 characters"
   ]
  },
  {
   "cell_type": "code",
   "execution_count": 9,
   "metadata": {},
   "outputs": [
    {
     "name": "stdout",
     "output_type": "stream",
     "text": [
      "Password entered: HELLO\n",
      "Invalid Passowrd!!\n",
      "Your passowrd does not contain atleast one number [0-9]\n"
     ]
    }
   ],
   "source": [
    "password = input(\"Enter password: \")\n",
    "print(f\"Password entered: {password}\")\n",
    "\n",
    "if not any(char.islower() for char in password) and not any(char.isupper() for char in password):\n",
    "    print(\"Invalid Passowrd!!\\nYour password does not contain atleast one lowercase [a-z] and one uppercase [A-Z] character\")\n",
    "elif not any(char.isnumeric() for char in password):\n",
    "    print(\"Invalid Passowrd!!\\nYour passowrd does not contain atleast one number [0-9]\")\n",
    "elif not any(char in password for char in ['$', '#', '@']):\n",
    "    print(\"Invalid Password!!\\nYour password does not contain any one of $#@\")\n",
    "elif len(password) < 6:\n",
    "    print(\"Invalid Passowrd!!\\nPassword length less than 6 characters\")\n",
    "elif len(password) > 16:\n",
    "    print(\"Invalid Passowrd!!\\nPassword length greater than 16 characters\")\n",
    "else:\n",
    "    print(\"Password saved successfully !\")\n"
   ]
  },
  {
   "cell_type": "markdown",
   "metadata": {},
   "source": [
    "Ques 4)\\\n",
    "Create a List L that is defined as= [10, 20, 30, 40, 50, 60, 70, 80].\\\n",
    "(i) WAP to add 200 and 300 to L.\\\n",
    "(ii) WAP to remove 10 and 30 from L.\\\n",
    "(iii) WAP to sort L in ascending order.\\\n",
    "(iv) WAP to sort L in descending order"
   ]
  },
  {
   "cell_type": "code",
   "execution_count": 10,
   "metadata": {},
   "outputs": [
    {
     "name": "stdout",
     "output_type": "stream",
     "text": [
      "Origial list: [10, 20, 30, 40, 50, 60, 70, 80]\n",
      "After i)\n",
      "[10, 20, 30, 40, 50, 60, 70, 80, 200, 300]\n",
      "After ii)\n",
      "[20, 40, 50, 60, 70, 80, 200, 300]\n",
      "After iii)\n",
      "[20, 40, 50, 60, 70, 80, 200, 300]\n",
      "After vi)\n",
      "[300, 200, 80, 70, 60, 50, 40, 20]\n"
     ]
    }
   ],
   "source": [
    "list = [10, 20, 30, 40, 50, 60, 70, 80]\n",
    "print(f\"Origial list: {list}\")\n",
    "\n",
    "# i)\n",
    "list.append(200)\n",
    "list.append(300)\n",
    "print(f\"After i)\\n{list}\")\n",
    "\n",
    "# ii)\n",
    "list.remove(10)\n",
    "list.remove(30)\n",
    "print(f\"After ii)\\n{list}\")\n",
    "\n",
    "# iii)\n",
    "list.sort()\n",
    "print(f\"After iii)\\n{list}\")\n",
    "\n",
    "# iv)\n",
    "list.sort(reverse=True)\n",
    "print(f\"After vi)\\n{list}\")\n",
    "\n"
   ]
  },
  {
   "cell_type": "markdown",
   "metadata": {},
   "source": [
    "Ques 5)\\\n",
    "D is a dictionary defined as D= {1:”One”, 2:”Two”, 3:”Three”, 4: “Four”, 5:”Five”}.\\\n",
    "(i) WAP to add new entry in D; key=6 and value is “Six”\\\n",
    "(ii) WAP to remove key=2.\\\n",
    "(iii) WAP to check if 6 key is present in D.\\\n",
    "(iv) WAP to count the number of elements present in D.\\\n",
    "(v) WAP to add all the values present D"
   ]
  },
  {
   "cell_type": "code",
   "execution_count": 1,
   "metadata": {},
   "outputs": [
    {
     "name": "stdout",
     "output_type": "stream",
     "text": [
      "Origial dictionary: {1: 'One', 2: 'Two', 3: 'Three', 4: 'Four', 5: 'Five'}\n",
      "After i)\n",
      "{1: 'One', 2: 'Two', 3: 'Three', 4: 'Four', 5: 'Five', 6: 'Six'}\n",
      "After ii)\n",
      "{1: 'One', 3: 'Three', 4: 'Four', 5: 'Five', 6: 'Six'}\n",
      "After iii)\n",
      "True\n",
      "After iv)\n",
      "5\n",
      "After v)\n",
      "OneThreeFourFiveSix\n"
     ]
    }
   ],
   "source": [
    "dict = {1:\"One\", 2:\"Two\", 3:\"Three\", 4: \"Four\", 5:\"Five\"}\n",
    "print(f\"Origial dictionary: {dict}\")\n",
    "\n",
    "# i)\n",
    "dict.update({6: \"Six\"})\n",
    "print(f\"After i)\\n{dict}\")\n",
    "\n",
    "# ii)\n",
    "dict.pop(2)\n",
    "print(f\"After ii)\\n{dict}\")\n",
    "\n",
    "# iii)\n",
    "print(f\"After iii)\\n{6 in dict}\")\n",
    "\n",
    "# iv)\n",
    "print(f\"After iv)\\n{len(dict)}\")\n",
    "\n",
    "# v)\n",
    "concatenated_values = ''.join(dict.values())\n",
    "print(f\"After v)\\n{concatenated_values}\")"
   ]
  },
  {
   "cell_type": "markdown",
   "metadata": {},
   "source": [
    "Ques 6)\\\n",
    "WAP to create a list of 100 random numbers between 100 and 900. Count and print the: \\\n",
    "(i) All odd numbers \\\n",
    "(ii) All even numbers \\\n",
    "(iii) All prime numbers"
   ]
  },
  {
   "cell_type": "code",
   "execution_count": 1,
   "metadata": {},
   "outputs": [
    {
     "name": "stdout",
     "output_type": "stream",
     "text": [
      "List of 100 numbers generated randomly within the range 100 and 900: [118, 448, 726, 749, 505, 552, 127, 600, 648, 518, 210, 726, 295, 451, 203, 714, 251, 609, 272, 708, 857, 588, 493, 359, 509, 266, 421, 431, 176, 783, 255, 421, 764, 350, 478, 797, 824, 526, 321, 322, 782, 558, 587, 450, 872, 213, 485, 427, 680, 624, 869, 165, 695, 677, 500, 550, 151, 244, 609, 518, 170, 690, 322, 525, 181, 336, 628, 889, 347, 706, 177, 713, 540, 417, 748, 210, 736, 153, 623, 293, 263, 261, 150, 285, 722, 437, 412, 510, 506, 676, 201, 761, 280, 666, 300, 898, 830, 185, 714, 326]\n",
      "Even numbers in the list: [118, 448, 726, 552, 600, 648, 518, 210, 726, 714, 272, 708, 588, 266, 176, 764, 350, 478, 824, 526, 322, 782, 558, 450, 872, 680, 624, 500, 550, 244, 518, 170, 690, 322, 336, 628, 706, 540, 748, 210, 736, 150, 722, 412, 510, 506, 676, 280, 666, 300, 898, 830, 714, 326]\n",
      "Odd numbers in the list: [749, 505, 127, 295, 451, 203, 251, 609, 857, 493, 359, 509, 421, 431, 783, 255, 421, 797, 321, 587, 213, 485, 427, 869, 165, 695, 677, 151, 609, 525, 181, 889, 347, 177, 713, 417, 153, 623, 293, 263, 261, 285, 437, 201, 761, 185]\n",
      "Prime numbers in the list: [127, 251, 857, 359, 509, 421, 431, 421, 797, 587, 677, 151, 181, 347, 293, 263, 761]\n"
     ]
    }
   ],
   "source": [
    "import random\n",
    "\n",
    "def isPrime(x):\n",
    "    if x < 2:\n",
    "        return False\n",
    "    for i in range(2, int(x**0.5) + 1):\n",
    "        if x % i == 0:\n",
    "            return False\n",
    "    return True\n",
    "\n",
    "numbers = []\n",
    "for i in range(100):\n",
    "    numbers.append(random.randint(100, 900))\n",
    "\n",
    "even_numbers = [number for number in numbers if number % 2 == 0]\n",
    "odd_numbers = [number for number in numbers if number % 2 != 0]\n",
    "prime_numbers = [number for number in numbers if isPrime(number)]\n",
    "\n",
    "print(f\"List of 100 numbers generated randomly within the range 100 and 900: {numbers}\")\n",
    "print(f\"Even numbers in the list: {even_numbers}\")\n",
    "print(f\"Odd numbers in the list: {odd_numbers}\")\n",
    "print(f\"Prime numbers in the list: {prime_numbers}\")\n",
    "\n"
   ]
  },
  {
   "cell_type": "markdown",
   "metadata": {},
   "source": [
    "Ques 7)\\\n",
    "(i) Write a function which takes principal amount, interest rate and time. \\\n",
    "This function returns compound interest. Call this function to print the output.\\\n",
    "(ii) Save this function (as a module) in a python file and call it in another python file."
   ]
  },
  {
   "cell_type": "code",
   "execution_count": 4,
   "metadata": {},
   "outputs": [
    {
     "name": "stdout",
     "output_type": "stream",
     "text": [
      "Compound interest applied on the given values is: 53460.70941802507 \n",
      "Compound interest (imported from another file) applied on the given values is: 53460.70941802507 \n"
     ]
    }
   ],
   "source": [
    "from sol1 import compoundInterestImported\n",
    "\n",
    "def compoundInterest(principal, interest, time):\n",
    "    amount = principal * (1 + interest / 100) ** time\n",
    "    return amount - principal\n",
    "\n",
    "princi = int(input(\"Enter principal Amount: \"))\n",
    "inter = int(input(\"Enter interest rate: \"))\n",
    "t = int(input(\"Enter time for interest: \"))\n",
    "print(f\"Compound interest applied on the given values is: {compoundInterest(princi, inter, t)} \")\n",
    "\n",
    "\n",
    "print(f\"Compound interest (imported from another file) applied on the given values is: {compoundInterestImported(princi, inter, t)} \")\n"
   ]
  },
  {
   "cell_type": "markdown",
   "metadata": {},
   "source": [
    "Ques 8)\\\n",
    "A) Make a class called Restaurant. The __init__() method for Restaurant should store two attributes: a restaurant_name and a cuisine_type. Make a method called describe_restaurant() that prints these two pieces of information, and a method called open_restaurant() that prints a message indicating that the restaurant is open. Make an instance called restaurant from your class. Print the two attributes individually, and then call both methods. \\\n",
    "B) Make a class called User. Create two attributes called first_name and last_name, and then create several other attributes that are typically stored in a user profile. Make a method called describe_user() that prints a summary of the user’s information. Make another method called greet_user() that prints a personalized greeting to the user. Create several instances representing different users, and call both method for each user."
   ]
  },
  {
   "cell_type": "code",
   "execution_count": 6,
   "metadata": {},
   "outputs": [
    {
     "name": "stdout",
     "output_type": "stream",
     "text": [
      "Restaurant Name: Some Exotic Name\n",
      "Cuisine Type:Italian\n",
      "\n",
      "The Restaurnat is open!!\n",
      "You are welcome\n"
     ]
    }
   ],
   "source": [
    "class Restaurant:\n",
    "    def __init__(self, name, type):\n",
    "        self.restaurant_name = name\n",
    "        self.cuisine_type = type\n",
    "    \n",
    "    def describe_restaurant(self):\n",
    "        print(f\"Restaurant Name: {self.restaurant_name}\\nCuisine Type:{self.cuisine_type}\\n\")\n",
    "\n",
    "    def open_restaurant(self):\n",
    "        print(\"The Restaurnat is open!!\\nYou are welcome\")\n",
    "    \n",
    "restaurant = Restaurant(\"Some Exotic Name\", \"Italian\")\n",
    "restaurant.describe_restaurant()\n",
    "restaurant.open_restaurant()"
   ]
  },
  {
   "cell_type": "code",
   "execution_count": 1,
   "metadata": {},
   "outputs": [
    {
     "name": "stdout",
     "output_type": "stream",
     "text": [
      "User Profile:\n",
      "First Name: This\n",
      "Last Name: Notebook\n",
      "Age: 28\n",
      "Email: email1@example.com\n",
      "\n",
      "Hello This Notebook, welcome back!\n",
      "\n",
      "User Profile:\n",
      "First Name: Solution\n",
      "Last Name: is\n",
      "Age: 35\n",
      "Email: email2@example.com\n",
      "\n",
      "Hello Solution is, welcome back!\n",
      "\n",
      "User Profile:\n",
      "First Name: By\n",
      "Last Name: Shivansh\n",
      "Age: 22\n",
      "Email: email3@example.com\n",
      "\n",
      "Hello By Shivansh, welcome back!\n",
      "\n"
     ]
    }
   ],
   "source": [
    "class User:\n",
    "    def __init__(self, first_name, last_name, age, email):\n",
    "        self.first_name = first_name\n",
    "        self.last_name = last_name\n",
    "        self.age = age\n",
    "        self.email = email\n",
    "\n",
    "    def describe_user(self):\n",
    "        print(f\"User Profile:\\nFirst Name: {self.first_name}\\nLast Name: {self.last_name}\\nAge: {self.age}\\nEmail: {self.email}\\n\")\n",
    "\n",
    "    def greet_user(self):\n",
    "        print(f\"Hello {self.first_name} {self.last_name}, welcome back!\\n\")\n",
    "\n",
    "user1 = User(\"This\", \"Notebook\", 28, \"email1@example.com\")\n",
    "user2 = User(\"Solution\", \"is\", 35, \"email2@example.com\")\n",
    "user3 = User(\"By\", \"Shivansh\", 22, \"email3@example.com\")\n",
    "\n",
    "user1.describe_user()\n",
    "user1.greet_user()\n",
    "\n",
    "user2.describe_user()\n",
    "user2.greet_user()\n",
    "\n",
    "user3.describe_user()\n",
    "user3.greet_user()"
   ]
  },
  {
   "cell_type": "code",
   "execution_count": null,
   "metadata": {},
   "outputs": [],
   "source": []
  }
 ],
 "metadata": {
  "kernelspec": {
   "display_name": "base",
   "language": "python",
   "name": "python3"
  },
  "language_info": {
   "codemirror_mode": {
    "name": "ipython",
    "version": 3
   },
   "file_extension": ".py",
   "mimetype": "text/x-python",
   "name": "python",
   "nbconvert_exporter": "python",
   "pygments_lexer": "ipython3",
   "version": "3.12.7"
  }
 },
 "nbformat": 4,
 "nbformat_minor": 2
}
